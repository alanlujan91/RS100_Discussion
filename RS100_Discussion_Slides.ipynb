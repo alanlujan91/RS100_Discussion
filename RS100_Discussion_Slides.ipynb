{
 "cells": [
  {
   "cell_type": "markdown",
   "id": "547110e7",
   "metadata": {
    "slideshow": {
     "controls": false,
     "height": "100%",
     "progress": true,
     "scroll": true,
     "slide_type": "slide",
     "width": "100%"
    }
   },
   "source": [
    "\n",
    "<h1 style=\"text-align: center;\">Beyond the Streetlight</h1>\n",
    "<h3 style=\"text-align: center;\">by Byrne, Corrado, Kennickell</h3>\n",
    "\n",
    "&nbsp;\n",
    "\n",
    "<h3 style=\"text-align: center;\">Discussion by Christopher D. Carroll</h3>\n",
    "<h5 style=\"text-align: center;\"><strong>Formerly of the Division of Research and Statistics: 1990-95</strong></h5>\n",
    "<h5 style=\"text-align: center;\">Johns Hopkins University (1995-2023)</h5>\n",
    "\n",
    "&nbsp;\n",
    "\n",
    "\n",
    "<h4 style=\"text-align: center;\">Federal Reserve RS100 Conference</h4>\n",
    "\n",
    "<h4 style=\"text-align: center;\">November 8, 2023</h4>\n"
   ]
  },
  {
   "cell_type": "markdown",
   "id": "fffc213e",
   "metadata": {
    "slideshow": {
     "slide_type": "slide"
    }
   },
   "source": [
    "<h2 style=\"text-align: center;\">Thank you to all Federal Reserve Staff</h2>\n",
    "\n",
    "- Past, Present, and Future\n",
    "\n",
    "- For doing a vitally important job as well as humanly possible\n"
   ]
  },
  {
   "cell_type": "markdown",
   "id": "983604fd",
   "metadata": {
    "slideshow": {
     "slide_type": "slide"
    }
   },
   "source": [
    "<h3 style=\"text-align: center;\">Measurement</h3>\n"
   ]
  },
  {
   "cell_type": "markdown",
   "id": "7ea11e36",
   "metadata": {
    "slideshow": {
     "slide_type": "fragment"
    }
   },
   "source": [
    "When I was on the job market, in academia ..."
   ]
  },
  {
   "cell_type": "markdown",
   "id": "95aa1ac7-ceff-4cf6-945a-78368f5f59a1",
   "metadata": {
    "slideshow": {
     "slide_type": "fragment"
    },
    "tags": []
   },
   "source": [
    "  - measurement was uncool"
   ]
  },
  {
   "cell_type": "markdown",
   "id": "a8c2c6d0-5d60-4749-9d6a-8f15a428db52",
   "metadata": {
    "slideshow": {
     "slide_type": "fragment"
    },
    "tags": []
   },
   "source": [
    "  - \"Theory Before Measurement ...\""
   ]
  },
  {
   "cell_type": "markdown",
   "id": "f6ee31ec-c6ab-441c-9317-a7edbffa010c",
   "metadata": {
    "slideshow": {
     "slide_type": "fragment"
    },
    "tags": []
   },
   "source": [
    "  - Wilcox: 'researchers spend little effort [to understand the data]'"
   ]
  },
  {
   "cell_type": "markdown",
   "id": "a7850281",
   "metadata": {
    "slideshow": {
     "slide_type": "fragment"
    }
   },
   "source": [
    "But at the Fed"
   ]
  },
  {
   "cell_type": "markdown",
   "id": "e649ad1b-d4d9-453d-b002-054532d9242d",
   "metadata": {
    "slideshow": {
     "slide_type": "fragment"
    },
    "tags": []
   },
   "source": [
    "   - measurement was always cool"
   ]
  },
  {
   "cell_type": "markdown",
   "id": "268ac6f0",
   "metadata": {
    "slideshow": {
     "slide_type": "fragment"
    }
   },
   "source": [
    "If I had to choose between data and theory"
   ]
  },
  {
   "cell_type": "markdown",
   "id": "d14a3118-9a08-4cf0-af70-00c64c1e0275",
   "metadata": {
    "slideshow": {
     "slide_type": "fragment"
    },
    "tags": []
   },
   "source": [
    "  - It's data all the way!"
   ]
  },
  {
   "cell_type": "markdown",
   "id": "e9f23276-6e2c-487e-a39a-a41c6a35d3d5",
   "metadata": {
    "slideshow": {
     "slide_type": "fragment"
    },
    "tags": []
   },
   "source": [
    "  - Even (especially) micro data"
   ]
  },
  {
   "cell_type": "markdown",
   "id": "f197afbd",
   "metadata": {
    "slideshow": {
     "slide_type": "slide"
    },
    "tags": []
   },
   "source": [
    "<h3 style=\"text-align: center;\">Measurement = Information Production</h3>"
   ]
  },
  {
   "cell_type": "markdown",
   "id": "980b72d0-c3a8-4a90-b9bc-fe83bd3590ec",
   "metadata": {
    "slideshow": {
     "slide_type": "fragment"
    },
    "tags": []
   },
   "source": [
    "Primary:\n",
    "- Survey of Consumer Finances"
   ]
  },
  {
   "cell_type": "markdown",
   "id": "4ef6d1bb-3a24-435e-9eaa-1dd3d35ba070",
   "metadata": {
    "slideshow": {
     "slide_type": "fragment"
    },
    "tags": []
   },
   "source": [
    "Secondary:\n",
    "- Industrial Production\n",
    "- Capacity Utilization"
   ]
  },
  {
   "cell_type": "markdown",
   "id": "310f322d-b64f-44cb-a087-0868534f549e",
   "metadata": {
    "slideshow": {
     "slide_type": "fragment"
    },
    "tags": []
   },
   "source": [
    "I would add a Tertiary:\n",
    "- books $\\in \\{$Green, Teal, Beige$\\}$\n",
    "- FOMC meeting notes ..."
   ]
  },
  {
   "cell_type": "markdown",
   "id": "66e3e774",
   "metadata": {
    "slideshow": {
     "slide_type": "slide"
    },
    "tags": []
   },
   "source": [
    "<h2 style=\"text-align: center;\">What Good Is It?</h2>"
   ]
  },
  {
   "cell_type": "markdown",
   "id": "fbe64770",
   "metadata": {
    "slideshow": {
     "slide_type": "fragment"
    }
   },
   "source": [
    "#### Greenspan Called the Productivity Resurgence"
   ]
  },
  {
   "cell_type": "markdown",
   "id": "405f7f1f",
   "metadata": {
    "slideshow": {
     "slide_type": "fragment"
    }
   },
   "source": [
    "- Or the 'new economy' as Bill Clinton called it"
   ]
  },
  {
   "cell_type": "markdown",
   "id": "e9c9050e-b7a7-48d4-8d1f-ecce48b40bdf",
   "metadata": {
    "slideshow": {
     "slide_type": "fragment"
    },
    "tags": []
   },
   "source": [
    "- A LOT of criticism of the failure to raise rates\n",
    "  * from left AND right\n",
    "    - (including conspiracy theories)"
   ]
  },
  {
   "cell_type": "markdown",
   "id": "669bc9b0-ce64-4960-bd96-e0f29d57aed7",
   "metadata": {},
   "source": [
    "- From mainstream macroeconomists\n",
    "  * of the kind Wilcox described"
   ]
  },
  {
   "cell_type": "markdown",
   "id": "2065103c",
   "metadata": {
    "slideshow": {
     "slide_type": "slide"
    }
   },
   "source": [
    "#### Was Greenspan Just Lucky?"
   ]
  },
  {
   "cell_type": "markdown",
   "id": "f546898a",
   "metadata": {
    "slideshow": {
     "slide_type": "fragment"
    }
   },
   "source": [
    "- Or has the Fed gotten better over time?\n",
    "  * That's the point of better measurement\n",
    "\n",
    "- Maybe everybody gotten better over time?\n",
    "  * Measurement improvements make everybody better off"
   ]
  },
  {
   "cell_type": "markdown",
   "id": "27662d0c-f2c6-4cde-b741-ef6d85b0fb91",
   "metadata": {},
   "source": [
    "<h3 style=\"text-align: center;\">Tertiary Data</h3>\n",
    "<center><img src=\"./figures/abse_reg_1983_GB_cons_only.png\" width=\"800\"></center>"
   ]
  },
  {
   "cell_type": "markdown",
   "id": "527c6c91-fb30-4d62-ab4e-46f5e900cd95",
   "metadata": {
    "slideshow": {
     "slide_type": "slide"
    },
    "tags": []
   },
   "source": [
    "<h3 style=\"text-align: center;\">Tertiary Data</h3>\n",
    "<center><img src=\"./figures/abse_reg_1983_SPF_cons_only.png\" width=\"800\"></center>\n"
   ]
  },
  {
   "cell_type": "markdown",
   "id": "b5ae4b78",
   "metadata": {
    "slideshow": {
     "slide_type": "fragment"
    }
   },
   "source": [
    "- They change the solution to the problem profoundly."
   ]
  },
  {
   "cell_type": "markdown",
   "id": "4eca28d0",
   "metadata": {
    "slideshow": {
     "slide_type": "fragment"
    }
   },
   "source": [
    "- Wealth-poor, middle-wealth, and wealthy households behave very differently.\n",
    "    - In both anticipation and reaction to macroeconomic shocks and policies.\n",
    "    - Financial system effectively lends nominal money from wealthy to others.\n",
    "    - Inflation redistributes in a big way."
   ]
  },
  {
   "cell_type": "markdown",
   "id": "03c289bd",
   "metadata": {
    "slideshow": {
     "slide_type": "fragment"
    }
   },
   "source": [
    "- These facts arise from the concavity of the consumption function.\n",
    "    - This lies at the heart of the implications for heterogeneous macro.\n",
    "    - Simplest channel is via differential MPCs.\n",
    "    - Another is quite different responses to changes in uncertainty.\n"
   ]
  },
  {
   "cell_type": "markdown",
   "id": "54541cea",
   "metadata": {
    "slideshow": {
     "slide_type": "slide"
    }
   },
   "source": [
    "<h3 style=\"text-align: left;\">Key assumptions on transitory income risk</h3>\n",
    "\n",
    "\n",
    "\n",
    "\n"
   ]
  },
  {
   "cell_type": "markdown",
   "id": "4cd702b2",
   "metadata": {
    "slideshow": {
     "slide_type": "fragment"
    }
   },
   "source": [
    "\n",
    "> \"All households are subject to idiosyncratic risk ... in the form of ... unemployment shocks.\""
   ]
  },
  {
   "cell_type": "markdown",
   "id": "c206c911",
   "metadata": {
    "slideshow": {
     "slide_type": "fragment"
    }
   },
   "source": [
    "- With probability $p$ household $i$ becomes unemployed and receives $UI$ benefits\n",
    "\n",
    "- Otherwise households receive the wage $w_{t}$\n",
    "\n",
    "$$\n",
    "    \\quad y_{i} = \n",
    "    \\begin{cases}\n",
    "    UI, \\ \\text{w. prob}\\  p\\\\\n",
    "    w_{t},\\ \\text{w. prob} \\ (1-p)\\\\\n",
    "    \\end{cases}\n",
    "    \\quad\n",
    "    \\quad\n",
    "$$"
   ]
  },
  {
   "cell_type": "markdown",
   "id": "4a1a2517",
   "metadata": {
    "slideshow": {
     "slide_type": "fragment"
    }
   },
   "source": [
    "\n",
    "\n",
    "Their first elegant assumption:\n",
    "    \n",
    "     \n",
    ">\"An agent receiving an unemployment insurance payout... \n",
    ">receives the  labor income they would have received if they had been able to work..\"\n",
    "\n"
   ]
  },
  {
   "cell_type": "markdown",
   "id": "cb77ecad",
   "metadata": {
    "slideshow": {
     "slide_type": "slide"
    }
   },
   "source": [
    "<h3 style=\"text-align: left;\">Key assumptions on permanent income risk </h3>\n",
    "\n",
    "\n",
    "\n"
   ]
  },
  {
   "cell_type": "markdown",
   "id": "6c953a58",
   "metadata": {
    "slideshow": {
     "slide_type": "fragment"
    }
   },
   "source": [
    "\n",
    "Households are subject to a permanent shock when they are born.\n"
   ]
  },
  {
   "cell_type": "markdown",
   "id": "c04a43e9",
   "metadata": {
    "slideshow": {
     "slide_type": "fragment"
    }
   },
   "source": [
    "Their second elegant assumption:\n",
    "\n",
    ">\"Each incoming ... household is ... endowed with a productivity profile. \n",
    "     The value of the realization ... dictates the entire lifetime profile of productivity... \"\n",
    "&nbsp;"
   ]
  },
  {
   "cell_type": "markdown",
   "id": "6254d117",
   "metadata": {
    "slideshow": {
     "slide_type": "slide"
    }
   },
   "source": [
    "<h3 style=\"text-align: center;\">Doubly elegant</h3>\n",
    "\n",
    "- They change the solution to the problem profoundly.\n",
    "\n",
    "- This is the key to being able to solve with paper and pencil.\n"
   ]
  },
  {
   "cell_type": "markdown",
   "id": "ebce4e43",
   "metadata": {
    "slideshow": {
     "slide_type": "slide"
    }
   },
   "source": [
    "<h3 style=\"text-align: left;\">What about aggregate risk?</h3>\n",
    "\n",
    "\n",
    "\n",
    "    \n"
   ]
  },
  {
   "cell_type": "markdown",
   "id": "d417ed26",
   "metadata": {
    "slideshow": {
     "slide_type": "fragment"
    }
   },
   "source": [
    "Only risk households face is the aggregate real wage.\n"
   ]
  },
  {
   "cell_type": "markdown",
   "id": "a79865ff",
   "metadata": {
    "slideshow": {
     "slide_type": "fragment"
    }
   },
   "source": [
    "Monetary policy rule\n",
    "- passes aggregate shocks directly to consumers"
   ]
  },
  {
   "cell_type": "markdown",
   "id": "4513e844",
   "metadata": {
    "slideshow": {
     "slide_type": "slide"
    }
   },
   "source": [
    "<h3 style=\"text-align: left;\"> Idiosyncratic labor income risk > aggregate risk</h3>\n",
    "\n",
    "\n"
   ]
  },
  {
   "cell_type": "markdown",
   "id": "c78cd8bf",
   "metadata": {
    "slideshow": {
     "slide_type": "fragment"
    }
   },
   "source": [
    "\n",
    "- Idiosyncratic labor income risk is about 100 times larger than aggregate risk (Carroll et al. 2020).\n"
   ]
  },
  {
   "cell_type": "markdown",
   "id": "36970ae8",
   "metadata": {
    "slideshow": {
     "slide_type": "fragment"
    }
   },
   "source": [
    "- Does it vary over the business cycle? \n",
    "    - Yes, large empirical literature on countercyclical income risk. (Storesletten,Telmer, and Yaron 2004, Guvenen, Ozkan, and Song 2014, ...)"
   ]
  },
  {
   "cell_type": "markdown",
   "id": "37f36ef1",
   "metadata": {
    "slideshow": {
     "slide_type": "fragment"
    }
   },
   "source": [
    "\n",
    "\n",
    "- Does it matter?\n",
    "    - Yes, theoretical literature shows countercyclical Urisk as an amplifier of business cycles.\n",
    "    (Den Haan et al. 2017, Ravn and Sterk 2017, Schaab 2020, Graves 2023,...)\n",
    "    - Urisk increases precautionary saving driving down spending and further increasing Urisk.\n"
   ]
  },
  {
   "cell_type": "markdown",
   "id": "3d9f8bb1",
   "metadata": {
    "slideshow": {
     "slide_type": "slide"
    }
   },
   "source": [
    "<h3 style=\"text-align: left;\"> The power of countercyclical Urisk</h3>\n",
    "\n",
    "\n",
    "\n",
    "\n"
   ]
  },
  {
   "cell_type": "markdown",
   "id": "5e65ca6f",
   "metadata": {
    "slideshow": {
     "slide_type": "fragment"
    }
   },
   "source": [
    "- Consider a computational HANK and SAM (Ravn and Sterk 2017)\n",
    "    - Matches wealth distribution.\n",
    "    - Matches idiosyncratic permanent and transitory income shocks.\n",
    "    - For details of the model see [Will Du's slides](https://github.com/wdu9/HANK_SAM/blob/main/HANK_SAM_Model_Slides.pdf) (PhD student at Johns Hopkins University)\n",
    "    "
   ]
  },
  {
   "cell_type": "markdown",
   "id": "b1638322",
   "metadata": {
    "slideshow": {
     "slide_type": "fragment"
    }
   },
   "source": [
    "- How much does unemployment risk amplify business cycle fluctuations?\n"
   ]
  },
  {
   "cell_type": "markdown",
   "id": "d37a7913",
   "metadata": {
    "slideshow": {
     "slide_type": "slide"
    }
   },
   "source": [
    "\n",
    "<font size=”10”> Consider a monetary policy shock: a 2.5 basis point quarterly increase in the nominal rate.</font>\n"
   ]
  },
  {
   "cell_type": "markdown",
   "id": "eb5d60bd",
   "metadata": {
    "slideshow": {
     "slide_type": "fragment"
    }
   },
   "source": [
    "\n",
    "- What do the impulse responses look like:\n",
    "    - When households do not perceive changes in labor income uncertainty?\n",
    "    "
   ]
  },
  {
   "cell_type": "markdown",
   "id": "86f1258e",
   "metadata": {
    "slideshow": {
     "slide_type": "fragment"
    }
   },
   "source": [
    "<center><img src=\"ev_uncertainty.png\" width=\"400\"></center>\n",
    "\n",
    "<h4 style=\"text-align: center;\">The uncertainty multiplier is missing from Bullard et al. yet accounts for almost half of the GDP decline.</h4>\n"
   ]
  },
  {
   "cell_type": "markdown",
   "id": "b5a1f87a",
   "metadata": {
    "slideshow": {
     "slide_type": "slide"
    }
   },
   "source": [
    "<h3 style=\"text-align: left;\"> Optimal policy in response to unemployment risk</h3>\n",
    "\n",
    "\n",
    "\n",
    "\n"
   ]
  },
  {
   "cell_type": "markdown",
   "id": "b014c420",
   "metadata": {
    "slideshow": {
     "slide_type": "fragment"
    }
   },
   "source": [
    "      \n",
    "- Optimal monetary policy response to Urisk: \n",
    "    - nominal rate needs to be much more aggressive in price stabilization (Challe 2020, Bonciani and Oh 2021).\n"
   ]
  },
  {
   "cell_type": "markdown",
   "id": "918d1d4c",
   "metadata": {
    "slideshow": {
     "slide_type": "fragment"
    }
   },
   "source": [
    "- Literature on fiscal policy emphasizes the role of UI in mitigating Urisk:\n",
    "    - as an automatic stabilizer (Mckay and Reis (2016,2021), Graves 2023,..)\n",
    "    - as a discretionary tool (Kekre 2021, Carroll et al. 2023)\n",
    "      "
   ]
  },
  {
   "cell_type": "markdown",
   "id": "f288a507",
   "metadata": {
    "slideshow": {
     "slide_type": "fragment"
    }
   },
   "source": [
    "\n",
    "- With countercyclical Urisk:\n",
    "    - welfare loss from nominal contracting friction likely to be insignificant.\n",
    "    - Nominal GDP targeting will exacerbate welfare loss from lack of price and output stabilization.\n"
   ]
  },
  {
   "cell_type": "markdown",
   "id": "6f24f0f7",
   "metadata": {
    "slideshow": {
     "slide_type": "slide"
    }
   },
   "source": [
    "### <h3 style=\"text-align: left;\"> Concluding thoughts</h3>\n",
    "\n"
   ]
  },
  {
   "cell_type": "markdown",
   "id": "530ed485",
   "metadata": {
    "slideshow": {
     "slide_type": "fragment"
    }
   },
   "source": [
    "\n",
    "- Baseline models are often useful in organizing the benchmark wrt which richer models deviate. \n",
    "    - So we can be clear in how they deviate and their plausibility.\n"
   ]
  },
  {
   "cell_type": "markdown",
   "id": "74b85409",
   "metadata": {
    "slideshow": {
     "slide_type": "fragment"
    }
   },
   "source": [
    "- This model may serve as a benchmark in that sense.\n"
   ]
  },
  {
   "cell_type": "markdown",
   "id": "dcc4ed9c",
   "metadata": {
    "slideshow": {
     "slide_type": "fragment"
    }
   },
   "source": [
    "- I am not persuaded that it is likely to end up being a persuasive case.\n",
    "    - For an actually desirable recipe for monetary policy. \n",
    "    - Or other kinds of macroeconomic decisionmaking.\n"
   ]
  }
 ],
 "metadata": {
  "celltoolbar": "Slideshow",
  "kernelspec": {
   "display_name": "Python 3 (ipykernel)",
   "language": "python",
   "name": "python3"
  },
  "language_info": {
   "codemirror_mode": {
    "name": "ipython",
    "version": 3
   },
   "file_extension": ".py",
   "mimetype": "text/x-python",
   "name": "python",
   "nbconvert_exporter": "python",
   "pygments_lexer": "ipython3",
   "version": "3.10.10"
  }
 },
 "nbformat": 4,
 "nbformat_minor": 5
}
